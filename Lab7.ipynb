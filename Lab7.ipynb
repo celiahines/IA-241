{
 "cells": [
  {
   "cell_type": "markdown",
   "metadata": {},
   "source": [
    "# Q1"
   ]
  },
  {
   "cell_type": "markdown",
   "metadata": {},
   "source": [
    "Company: CACI \n",
    "Description: experience required for intelligence analyst counter terrorism position \n",
    "[IntelAnalystCounterTerrorism](https://www.google.com/search?source=hp&ei=OJuKXMmZE-Xs5gKX5JfABQ&q=intelligence+jobs&oq=intelligence+jobs&gs_l=psy-ab.3..0l10.1249.8127..8195...3.0..0.57.893.20......0....1..gws-wiz.....0..0i131j0i10.rD8dMkfYDBk&ibp=htl;jobs&sa=X&ved=2ahUKEwjHoOO7n4LhAhUB2FkKHXzyBS4QiYsCKAF6BAgCECo#fpstate=tldetail&htidocid=xEnUY2CA19UmdIpLAAAAAA%3D%3D&htivrt=jobs)"
   ]
  },
  {
   "cell_type": "markdown",
   "metadata": {},
   "source": [
    "# Q2"
   ]
  },
  {
   "cell_type": "code",
   "execution_count": 6,
   "metadata": {},
   "outputs": [],
   "source": [
    "import xlwt\n",
    "import xlrd\n",
    "from collections import Counter"
   ]
  },
  {
   "cell_type": "code",
   "execution_count": 7,
   "metadata": {},
   "outputs": [],
   "source": [
    "book = xlwt.Workbook() \n",
    "sheet_test = book.add_sheet('IntelAnalyst') \n",
    "i = 0\n",
    "sheet_test.write(i,0,'word') \n",
    "sheet_test.write(i,1,'count')"
   ]
  },
  {
   "cell_type": "markdown",
   "metadata": {},
   "source": [
    "# Q3"
   ]
  },
  {
   "cell_type": "code",
   "execution_count": 8,
   "metadata": {},
   "outputs": [],
   "source": [
    "with open('IntelJobLab.txt','r') as post_job: \n",
    "    count_result =  Counter(post_job.read().split()) \n",
    "    for result in count_result.most_common(20):\n",
    "        i = i+1 \n",
    "        sheet_test.write(i,0,result[0])\n",
    "        sheet_test.write(i,1,result[1])\n",
    "\n",
    "book.save('IntelJobLab.xls') "
   ]
  },
  {
   "cell_type": "markdown",
   "metadata": {},
   "source": [
    "# Q4"
   ]
  },
  {
   "cell_type": "code",
   "execution_count": 10,
   "metadata": {},
   "outputs": [
    {
     "name": "stdout",
     "output_type": "stream",
     "text": [
      "word count\n",
      "and 18.0\n",
      "of 12.0\n",
      "• 12.0\n",
      "intelligence 6.0\n",
      "or 6.0\n",
      "to 6.0\n",
      "a 5.0\n",
      "in 5.0\n",
      "an 5.0\n",
      "TS/SCI 4.0\n",
      "with 3.0\n",
      "years 3.0\n",
      "analysis 3.0\n",
      "targeting 3.0\n",
      "experience. 3.0\n",
      "be 3.0\n",
      "as 3.0\n",
      "related 3.0\n",
      "support 3.0\n"
     ]
    }
   ],
   "source": [
    "book = xlrd.open_workbook('IntelJobLab.xls')\n",
    "my_sheet = book.sheet_by_name('IntelAnalyst')\n",
    "for i in range(20):\n",
    "    row=my_sheet.row_values(i)\n",
    "    word,count=row\n",
    "    print (word,count)"
   ]
  },
  {
   "cell_type": "markdown",
   "metadata": {},
   "source": [
    "# Q5"
   ]
  },
  {
   "cell_type": "markdown",
   "metadata": {},
   "source": [
    "<img src = 'wordcloud.png'>"
   ]
  },
  {
   "cell_type": "code",
   "execution_count": null,
   "metadata": {},
   "outputs": [],
   "source": []
  }
 ],
 "metadata": {
  "kernelspec": {
   "display_name": "Python 3",
   "language": "python",
   "name": "python3"
  },
  "language_info": {
   "codemirror_mode": {
    "name": "ipython",
    "version": 3
   },
   "file_extension": ".py",
   "mimetype": "text/x-python",
   "name": "python",
   "nbconvert_exporter": "python",
   "pygments_lexer": "ipython3",
   "version": "3.6.5"
  }
 },
 "nbformat": 4,
 "nbformat_minor": 2
}
