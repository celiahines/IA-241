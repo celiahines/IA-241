{
 "cells": [
  {
   "cell_type": "markdown",
   "metadata": {},
   "source": [
    "# Q1"
   ]
  },
  {
   "cell_type": "markdown",
   "metadata": {},
   "source": [
    "Job 1:\n",
    "Company: Booze Allen\n",
    "Title: Order of Battle Analyst\n",
    "[link](https://www.google.com/search?source=hp&ei=edmTXPmwMq2B5wLC6bqYCQ&q=intelligence+analysis+jobs+&oq=intelligence+analysis+jobs+&gs_l=psy-ab.3..0i22i10i30l10.1030.7620..7800...0.0..0.260.1978.26j1j1......0....1..gws-wiz.....0..35i39j0i131j0j0i10.1GrqOkpY0Us&ibp=htl;jobs&sa=X&ved=2ahUKEwif0K-N8JPhAhXHjVkKHXt5BRwQp4wCMAF6BAgJEBg#htidocid=YGjSfJ4Vt8rCwk4aAAAAAA%3D%3)\n",
    "\n"
   ]
  },
  {
   "cell_type": "markdown",
   "metadata": {},
   "source": [
    "Job 2: \n",
    "Company: Calhoun\n",
    "Title: Intelligence Analyst\n",
    "[link](https://www.google.com/search?source=hp&ei=edmTXPmwMq2B5wLC6bqYCQ&q=intelligence+analysis+jobs+&oq=intelligence+analysis+jobs+&gs_l=psy-ab.3..0i22i10i30l10.1030.7620..7800...0.0..0.260.1978.26j1j1......0....1..gws-wiz.....0..35i39j0i131j0j0i10.1GrqOkpY0Us&ibp=htl;jobs&sa=X&ved=2ahUKEwif0K-N8JPhAhXHjVkKHXt5BRwQp4wCMAF6BAgJEBg#fpstate=tldetail&htidocid=9y-DBQtrVKOAUIsQAAAAAA%3D%3D&htivrt=job)"
   ]
  },
  {
   "cell_type": "code",
   "execution_count": 11,
   "metadata": {},
   "outputs": [],
   "source": [
    "import xlwt        \n",
    "\n",
    "from collections import Counter        \n",
    "\n",
    "from nltk.corpus import stopwords\n",
    "\n",
    "stop = set(stopwords.words('english'))\n",
    "\n",
    "  \n",
    "\n",
    "book = xlwt.Workbook() \n",
    "\n",
    "sheet_test = book.add_sheet('job_1') # add a new sheet\n",
    "\n",
    "i = 0\n",
    "\n",
    "sheet_test.write(i,0,'word') # write the header of the first column\n",
    "\n",
    "sheet_test.write(i,1,'count') # write the header of the second column\n",
    "\n",
    "sheet_test.write(i,2,'ratio') # write the header of the third column\n",
    "\n",
    "    \n",
    "\n",
    "with open('job_1.txt','r',encoding='utf-8', errors = 'ignore') as text_word: # define the location of your txt file\n",
    "\n",
    "     \n",
    "\n",
    "    # convert all the word into lower cases\n",
    "\n",
    "    # filter out stop words\n",
    "\n",
    "    word_list = [i for i in text_word.read().lower().split() if i not in stop]\n",
    "\n",
    "    word_total = word_list.__len__()\n",
    "\n",
    "     \n",
    "\n",
    "    count_result =  Counter(word_list)\n",
    "\n",
    "    for result in count_result.most_common(10):\n",
    "\n",
    "        i = i+1 \n",
    "\n",
    "        sheet_test.write(i,0,result[0])\n",
    "\n",
    "        sheet_test.write(i,1,result[1])\n",
    "\n",
    "        sheet_test.write(i,2,(result[1]/word_total))\n",
    "\n",
    "    \n",
    "\n",
    "book.save('job_1.xls')# define the location of your excel file"
   ]
  },
  {
   "cell_type": "markdown",
   "metadata": {},
   "source": []
  },
  {
   "cell_type": "code",
   "execution_count": 10,
   "metadata": {},
   "outputs": [],
   "source": [
    "import xlwt        \n",
    "\n",
    "from collections import Counter        \n",
    "\n",
    "from nltk.corpus import stopwords\n",
    "\n",
    "stop = set(stopwords.words('english'))\n",
    "\n",
    "  \n",
    "\n",
    "book = xlwt.Workbook() \n",
    "\n",
    "sheet_test = book.add_sheet('job_1') # add a new sheet\n",
    "\n",
    "i = 0\n",
    "\n",
    "sheet_test.write(i,0,'word') # write the header of the first column\n",
    "\n",
    "sheet_test.write(i,1,'count') # write the header of the second column\n",
    "\n",
    "sheet_test.write(i,2,'ratio') # write the header of the third column\n",
    "\n",
    "    \n",
    "\n",
    "with open('job_2.txt','r',encoding='utf-8', errors = 'ignore') as text_word: # define the location of your txt file\n",
    "\n",
    "     \n",
    "\n",
    "    # convert all the word into lower cases\n",
    "\n",
    "    # filter out stop words\n",
    "\n",
    "    word_list = [i for i in text_word.read().lower().split() if i not in stop]\n",
    "\n",
    "    word_total = word_list.__len__()\n",
    "\n",
    "     \n",
    "\n",
    "    count_result =  Counter(word_list)\n",
    "\n",
    "    for result in count_result.most_common(10):\n",
    "\n",
    "        i = i+1 \n",
    "\n",
    "        sheet_test.write(i,0,result[0])\n",
    "\n",
    "        sheet_test.write(i,1,result[1])\n",
    "\n",
    "        sheet_test.write(i,2,(result[1]/word_total))\n",
    "\n",
    "    \n",
    "\n",
    "book.save('job_2.xls')# define the location of your excel file"
   ]
  },
  {
   "cell_type": "markdown",
   "metadata": {},
   "source": [
    "# Q4"
   ]
  },
  {
   "cell_type": "code",
   "execution_count": 16,
   "metadata": {},
   "outputs": [
    {
     "name": "stdout",
     "output_type": "stream",
     "text": [
      "0\n"
     ]
    }
   ],
   "source": [
    "from fuzzywuzzy import fuzz\n",
    "with open('job_1.txt', 'r',encoding='utf-8', errors = 'ignore') as job1:\n",
    "    with open('job_2.txt', 'r',encoding='utf-8', errors='ignore')as job2:\n",
    "        job1_str=job1.read()\n",
    "        job2_str=job2.read()\n",
    "        print(fuzz.token_sort_ratio(job1_str,job2_str))\n",
    "       # job1_set=set(job1_str.split())\n",
    "       # job2_set=set(job2_str.split())\n",
    "        \n",
    "       # print(job1_set.difference(job2_set))\n",
    "       # print(job2_set.difference(job1_set))\n",
    "        "
   ]
  },
  {
   "cell_type": "markdown",
   "metadata": {},
   "source": [
    "# Q2"
   ]
  },
  {
   "cell_type": "markdown",
   "metadata": {},
   "source": [
    "<img src=\"job1.png\">"
   ]
  },
  {
   "cell_type": "markdown",
   "metadata": {},
   "source": [
    "<img src=\"Job2.png\">"
   ]
  },
  {
   "cell_type": "markdown",
   "metadata": {},
   "source": [
    "# Q3"
   ]
  },
  {
   "cell_type": "code",
   "execution_count": 18,
   "metadata": {},
   "outputs": [
    {
     "name": "stdout",
     "output_type": "stream",
     "text": [
      "{'capacity,', 'protected', 'larger', 'parameter,', 'leaders,', 'abroad,', 'answers.', 'tools.', 'tech', '-BA', 'supporting', 'constantly', 'GPU', 'Political', 'queries,', 'mentoring', 'career', 'problems', 'clients', 'threats', 'RFID', 'preferred', 'sexual', 'both', 'help', 'partnerships', 'operations,', 'how', 'information;', '-Experience', 'analytics', 'Thats', 'security.', 'Foreign', 'protect', 'create', 'come', 'through', 'more', 'making', 'analysts.', 'improve', 'provide', 'AOR', 'seek', 'explore', 'You', 'its', 'degree', 'actionable', 'allow', 'Use', 'solving', 'BS', 'Clearance:', 'leaders.', 'fearlessly', 'it', 'working', 'validate', 'Your', 'customers,', 'connected', 'briefings', 'Science,', 'crafting', 'veteran', 'Do', 'may', 'With', 'all', 'understanding', 'orientation,', 'together;', 'support', 'mission', 'turn', 'worlds', 'expertise,', 'TS/SCI', 'integrating', 'levels,', 'Join', 'explosion', 'sift', 'battle', 'preferred;', '-TS/SCI', 'deliver', 'equipment', 'Career:', 'experts', 'Meaningful', 'citizens', 'production,', 'navigation,', 'role', 'Challenging', 'sources,', 'mindset,', 'warfighters,', 'US', 'ideas', '-1+', 'raw', 'National', 'analyzing', 'storage', 'EUCOM', 'source', 'no', 'classified', 'empowers', 'yourself', 'out', 'This', 'youll', 'In-house', 'digital', 'reality', 'methodologies', 'encouraging', 'us', 'eligibility', 'chance', 'home', 'the', 'power', 'rehearse', 'has', 'build', 'who', 'want.', 'security', 'job', 'MA', 'responsibility', 'characteristicto', 'enable', '-3+', 'been', 'formal', 'intelligence.', 'information?', 'develop', 'connections', 'Modernized', 'status,', 'We', 'C4I', 'origin,', 'critical', 'peopleno', 'resources', 'some', 'toughest', 'at', 'have', 'environments', 'valuable', 'Splunk,', 'requirements', 'matter', 'strong', 'need', 'know', 'required.', 'nations', 'investigation', 'focus', 'Allen,', 'analysts', 'environment', 'forensics,', 'More', 'area', 'Booz', 'analyst', 'into', 'they', 'countries', 'Integrated', 'tags', 'security?', 'plus', 'you', 'longer', 'drive', 'Youll', 'quickly', 'identity,', 'Nice', 'secure', 'team,', 'where', 'mentors,', 'capability', 'abroad', 'Broaden', 'missions', 'warfighters', 'Studies,', 'teams', 'simulation', 'resulted', 'your', 'Applicants', 'facing', 'we', 'practical', 'polygraph', 'inspired', 'Command', 'accurate', 'faster', 'opportunity', 'grow', 'best', 'their', 'find', 'disparate', 'military', 'clearance', 'right', 'opportunities', '(MIDB)', 'capabilities', 'community', 'devices,', 'want', 'specialized', 'Area', 'senior', 'government', 'At', 'tradecraft', 'analysis,', 'looking', 'State-of-the-art', 'EOE', '-Ability', 'colleagues', 'gender', 'managers', 'Community', 'informal', 'needs', 'better', 'effective', 'Empower', 'learn', 'science', 'inform', 'meaningful.', 'selected', 'join', 'When', 'If', 'MS', 'disability,', 'high-quality', 'Whether', 'change.', 'technology;', 'field', 'New', 'can', 'thinking', 'flexibility,', 'collaborative', 'mobile', 'Affairs,', 'empower', 'tactical', 'growing', 'Build', 'access', 'Cybersecurity,', 'deliverables', 'Studies', 'advanced', 'including', 'leads,', 'like', 'available', 'time', 'As', '(AOR)', 'subject', 'researching', 'range', 'precision', 'technologies,', 'order', 'understand', 'skills,', 'Were', 'telematics,', 'so', 'devices', 'combine', 'Database', 'Never', 'mean', 'use', 'Room', 'Nvidia', 'The', 'apply', 'learning', 'policymakers.', 'those', 'information.', 'get', 'change', 'thanks', 'in.', 'geo', 'Combatant', 'safe', 'Have:', 'solve', 'complex', '-Knowledge', 'while', 'security,', 'VR', 'tailored', 'be', 'client', 'projects', 'keep', 'us.'}\n",
      "{'employment', 'coordinate', 'authoring', 'manage,', 'expert', 'NGT,', 'accordance', 'IC', 'Warfare', 'material.', 'All-Source', 'trends,', 'Virginia,', 'Experience', 'management', 'Tampa,', 'processes', 'communication,', 'research,', 'publications', 'consulting', 'Familiarity', 'management.', \"Bachelor's\", 'used', 'expertise', 'Analyst', 'preparing', '10', 'alert', 'operations', 'All', 'skills.', '/', 'responding', 'commonly', 'position', 'testing', 'minimum', 'located', 'origin.', 'CRATE,', 'finished', 'methodologies,', 'practices,', 'leadership', 'consistent', 'Provide', 'multiple', 'Understanding', 'standards', 'innovative', 'company', 'needs.', 'Knowledge', 'Washington,', 'clients.', 'lines', 'RMT,', 'CHROME/CORE', 'solutions', 'Secret', 'communication', 'relevant', 'FL', 'Florida,', 'sensors,', 'Current', 'qualified', 'network', 'network,', 'requests', 'propose', 'D.C.', 'significant', 'TRIPWIRE/TAC,', 'Requirements', 'Ability', 'presenting,', 'writing', 'M3,', 'Such', 'without', 'ranges', 'overseas.', 'standards,', 'evaluation', 'Calhoun', 'briefing,', 'Excellent', 'consideration', 'reports', 'applicants', 'Demonstrated', 'Top', 'cyberspace', 'systems', 'include', 'revised', 'HUMINT,', 'product', 'SIGINT,', 'are', 'providing', 'processes,', 'products', 'developments', 'Responsibilities', 'concepts', 'HOT-R,', 'excess', 'Maryland,', 'services', 'Our', 'activities', 'Clearance', 'D,', 'draft', 'briefing', 'NGIC/DIA/IC', 'Irregular', 'NGIC', 'OSINT,', '(RFIs', 'Texas,', 'communicating', 'modeling,', 'instruction', 'receive', 'SCI', 'threat', 'oral', 'efforts', 'sets.', 'employees', 'requirements.', 'TNAS', 'regard', 'activity', 'evaluations,', 'customer', 'Degree', 'academic', 'papers.', 'Identify', 'projects.', 'production', 'pages'}\n"
     ]
    }
   ],
   "source": [
    "from fuzzywuzzy import fuzz\n",
    "with open('job_1.txt', 'r',encoding='utf-8', errors = 'ignore') as job1:\n",
    "    with open('job_2.txt', 'r',encoding='utf-8', errors='ignore')as job2:\n",
    "        job1_str=job1.read()\n",
    "        job2_str=job2.read()\n",
    "#         print(fuzz.token_sort_ratio(job1_str,job2_str))\n",
    "        job1_set=set(job1_str.split())\n",
    "        job2_set=set(job2_str.split())\n",
    "\n",
    "        \n",
    "        print(job1_set.difference(job2_set))\n",
    "        print(job2_set.difference(job1_set))"
   ]
  },
  {
   "cell_type": "code",
   "execution_count": null,
   "metadata": {},
   "outputs": [],
   "source": []
  }
 ],
 "metadata": {
  "kernelspec": {
   "display_name": "Python 3",
   "language": "python",
   "name": "python3"
  },
  "language_info": {
   "codemirror_mode": {
    "name": "ipython",
    "version": 3
   },
   "file_extension": ".py",
   "mimetype": "text/x-python",
   "name": "python",
   "nbconvert_exporter": "python",
   "pygments_lexer": "ipython3",
   "version": "3.6.5"
  }
 },
 "nbformat": 4,
 "nbformat_minor": 2
}
