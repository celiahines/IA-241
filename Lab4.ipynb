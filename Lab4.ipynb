{
 "cells": [
  {
   "cell_type": "code",
   "execution_count": 5,
   "metadata": {},
   "outputs": [
    {
     "name": "stdout",
     "output_type": "stream",
     "text": [
      "Requirement already satisfied: psycopg2 in c:\\programdata\\anaconda3\\lib\\site-packages (2.8.3)\n"
     ]
    }
   ],
   "source": [
    "!pip install psycopg2"
   ]
  },
  {
   "cell_type": "code",
   "execution_count": 6,
   "metadata": {},
   "outputs": [],
   "source": [
    "import pandas \n",
    "import configparser \n",
    "import psycopg2"
   ]
  },
  {
   "cell_type": "markdown",
   "metadata": {},
   "source": [
    "we used Notebook ++ to add our info for configparser"
   ]
  },
  {
   "cell_type": "code",
   "execution_count": 7,
   "metadata": {},
   "outputs": [],
   "source": [
    "config = configparser.ConfigParser()\n",
    "config.read('config.ini')\n",
    "\n",
    "\n",
    "host = config['myaws']['host']\n",
    "user = config['myaws']['user']\n",
    "pwd = config['myaws']['pwd']\n",
    "database= config['myaws']['database']\n"
   ]
  },
  {
   "cell_type": "markdown",
   "metadata": {},
   "source": [
    "establishing a connection to the database\n",
    "\n",
    "if you need to change the information, you dont need to change the code, just change in notebook ++"
   ]
  },
  {
   "cell_type": "code",
   "execution_count": 8,
   "metadata": {},
   "outputs": [],
   "source": [
    "conn = psycopg2.connect(\n",
    "                        host = host,\n",
    "                        user = user,\n",
    "                        password = pwd,\n",
    "                        dbname = database\n",
    "\n",
    ")"
   ]
  },
  {
   "cell_type": "markdown",
   "metadata": {},
   "source": [
    "creat a cursor "
   ]
  },
  {
   "cell_type": "code",
   "execution_count": null,
   "metadata": {},
   "outputs": [],
   "source": [
    "cur = conn.cursor()"
   ]
  },
  {
   "cell_type": "markdown",
   "metadata": {},
   "source": [
    "## Q1"
   ]
  },
  {
   "cell_type": "code",
   "execution_count": 19,
   "metadata": {},
   "outputs": [],
   "source": [
    "sql_statement = '''\n",
    "                select * from student_gp3\n",
    "                '''"
   ]
  },
  {
   "cell_type": "markdown",
   "metadata": {},
   "source": [
    "^^^ this is where we can design sql statements\n",
    "can select bedrooms, bathrooms, where > 2"
   ]
  },
  {
   "cell_type": "code",
   "execution_count": 20,
   "metadata": {},
   "outputs": [],
   "source": [
    "cur.execute(sql_statement)"
   ]
  },
  {
   "cell_type": "code",
   "execution_count": 25,
   "metadata": {},
   "outputs": [
    {
     "data": {
      "text/html": [
       "<div>\n",
       "<style scoped>\n",
       "    .dataframe tbody tr th:only-of-type {\n",
       "        vertical-align: middle;\n",
       "    }\n",
       "\n",
       "    .dataframe tbody tr th {\n",
       "        vertical-align: top;\n",
       "    }\n",
       "\n",
       "    .dataframe thead th {\n",
       "        text-align: right;\n",
       "    }\n",
       "</style>\n",
       "<table border=\"1\" class=\"dataframe\">\n",
       "  <thead>\n",
       "    <tr style=\"text-align: right;\">\n",
       "      <th></th>\n",
       "      <th>email</th>\n",
       "      <th>name</th>\n",
       "      <th>major</th>\n",
       "    </tr>\n",
       "  </thead>\n",
       "  <tbody>\n",
       "    <tr>\n",
       "      <th>0</th>\n",
       "      <td>fsh@jmu.edu                                   ...</td>\n",
       "      <td>sdf                                           ...</td>\n",
       "      <td>IA</td>\n",
       "    </tr>\n",
       "    <tr>\n",
       "      <th>1</th>\n",
       "      <td>dsg@jmu.edu                                   ...</td>\n",
       "      <td>sdg                                           ...</td>\n",
       "      <td>IA</td>\n",
       "    </tr>\n",
       "    <tr>\n",
       "      <th>2</th>\n",
       "      <td>fdj@jmu.edu                                   ...</td>\n",
       "      <td>ger                                           ...</td>\n",
       "      <td>IA</td>\n",
       "    </tr>\n",
       "    <tr>\n",
       "      <th>3</th>\n",
       "      <td>df@jmu.edu                                    ...</td>\n",
       "      <td>gre                                           ...</td>\n",
       "      <td>IA</td>\n",
       "    </tr>\n",
       "  </tbody>\n",
       "</table>\n",
       "</div>"
      ],
      "text/plain": [
       "                                               email  \\\n",
       "0  fsh@jmu.edu                                   ...   \n",
       "1  dsg@jmu.edu                                   ...   \n",
       "2  fdj@jmu.edu                                   ...   \n",
       "3  df@jmu.edu                                    ...   \n",
       "\n",
       "                                                name                 major  \n",
       "0  sdf                                           ...  IA                    \n",
       "1  sdg                                           ...  IA                    \n",
       "2  ger                                           ...  IA                    \n",
       "3  gre                                           ...  IA                    "
      ]
     },
     "execution_count": 25,
     "metadata": {},
     "output_type": "execute_result"
    }
   ],
   "source": [
    "df = pandas.read_sql_query(sql_statement,conn)\n",
    "df[:]"
   ]
  },
  {
   "cell_type": "markdown",
   "metadata": {},
   "source": [
    "## Q2"
   ]
  },
  {
   "cell_type": "code",
   "execution_count": 31,
   "metadata": {},
   "outputs": [],
   "source": [
    "sql_statement = '''\n",
    "                select \n",
    "                cname, count(semail)\n",
    "                from enroll_gp3\n",
    "                group by cname\n",
    "                order by count(semail) desc\n",
    "                limit 1\n",
    "                '''"
   ]
  },
  {
   "cell_type": "code",
   "execution_count": 32,
   "metadata": {},
   "outputs": [
    {
     "data": {
      "text/html": [
       "<div>\n",
       "<style scoped>\n",
       "    .dataframe tbody tr th:only-of-type {\n",
       "        vertical-align: middle;\n",
       "    }\n",
       "\n",
       "    .dataframe tbody tr th {\n",
       "        vertical-align: top;\n",
       "    }\n",
       "\n",
       "    .dataframe thead th {\n",
       "        text-align: right;\n",
       "    }\n",
       "</style>\n",
       "<table border=\"1\" class=\"dataframe\">\n",
       "  <thead>\n",
       "    <tr style=\"text-align: right;\">\n",
       "      <th></th>\n",
       "      <th>cname</th>\n",
       "      <th>count</th>\n",
       "    </tr>\n",
       "  </thead>\n",
       "  <tbody>\n",
       "    <tr>\n",
       "      <th>0</th>\n",
       "      <td>IA 2                                          ...</td>\n",
       "      <td>1</td>\n",
       "    </tr>\n",
       "  </tbody>\n",
       "</table>\n",
       "</div>"
      ],
      "text/plain": [
       "                                               cname  count\n",
       "0  IA 2                                          ...      1"
      ]
     },
     "execution_count": 32,
     "metadata": {},
     "output_type": "execute_result"
    }
   ],
   "source": [
    "df = pandas.read_sql_query(sql_statement,conn)\n",
    "df[:]"
   ]
  },
  {
   "cell_type": "markdown",
   "metadata": {},
   "source": [
    "## Q3"
   ]
  },
  {
   "cell_type": "code",
   "execution_count": 40,
   "metadata": {},
   "outputs": [],
   "source": [
    "sql_statement = '''\n",
    "                select \n",
    "                *\n",
    "                from teacher_gp3\n",
    "                inner join course_gp3\n",
    "                on teacher_gp3.email = course_gp3.temail;\n",
    "                '''"
   ]
  },
  {
   "cell_type": "code",
   "execution_count": 41,
   "metadata": {},
   "outputs": [
    {
     "data": {
      "text/html": [
       "<div>\n",
       "<style scoped>\n",
       "    .dataframe tbody tr th:only-of-type {\n",
       "        vertical-align: middle;\n",
       "    }\n",
       "\n",
       "    .dataframe tbody tr th {\n",
       "        vertical-align: top;\n",
       "    }\n",
       "\n",
       "    .dataframe thead th {\n",
       "        text-align: right;\n",
       "    }\n",
       "</style>\n",
       "<table border=\"1\" class=\"dataframe\">\n",
       "  <thead>\n",
       "    <tr style=\"text-align: right;\">\n",
       "      <th></th>\n",
       "      <th>email</th>\n",
       "      <th>tname</th>\n",
       "      <th>office</th>\n",
       "      <th>name</th>\n",
       "      <th>room</th>\n",
       "      <th>temail</th>\n",
       "    </tr>\n",
       "  </thead>\n",
       "  <tbody>\n",
       "    <tr>\n",
       "      <th>0</th>\n",
       "      <td>weixx@jmu.edu                                 ...</td>\n",
       "      <td>xeubin wei                                    ...</td>\n",
       "      <td>hhs112</td>\n",
       "      <td>IA 1                                          ...</td>\n",
       "      <td>ISAT 100</td>\n",
       "      <td>weixx@jmu.edu                                 ...</td>\n",
       "    </tr>\n",
       "    <tr>\n",
       "      <th>1</th>\n",
       "      <td>thoma7lm@jmu.edu                              ...</td>\n",
       "      <td>linda thomas                                  ...</td>\n",
       "      <td>ISAT 312</td>\n",
       "      <td>IA 2                                          ...</td>\n",
       "      <td>ISAT 200</td>\n",
       "      <td>thoma7lm@jmu.edu                              ...</td>\n",
       "    </tr>\n",
       "    <tr>\n",
       "      <th>2</th>\n",
       "      <td>hendrinx@jmu.edu                              ...</td>\n",
       "      <td>noel hendrickson                              ...</td>\n",
       "      <td>ISAT 317</td>\n",
       "      <td>IA 3                                          ...</td>\n",
       "      <td>ISAT 300</td>\n",
       "      <td>hendrinx@jmu.edu                              ...</td>\n",
       "    </tr>\n",
       "    <tr>\n",
       "      <th>3</th>\n",
       "      <td>kolvoora@jmu.edu                              ...</td>\n",
       "      <td>bob kolvoord                                  ...</td>\n",
       "      <td>ISAT 370</td>\n",
       "      <td>IA 4                                          ...</td>\n",
       "      <td>ISAT 400</td>\n",
       "      <td>kolvoora@jmu.edu                              ...</td>\n",
       "    </tr>\n",
       "    <tr>\n",
       "      <th>4</th>\n",
       "      <td>dum                                           ...</td>\n",
       "      <td>dum                                           ...</td>\n",
       "      <td>dum</td>\n",
       "      <td>dum                                           ...</td>\n",
       "      <td>dum</td>\n",
       "      <td>dum                                           ...</td>\n",
       "    </tr>\n",
       "    <tr>\n",
       "      <th>5</th>\n",
       "      <td>Hines                                         ...</td>\n",
       "      <td>death                                         ...</td>\n",
       "      <td>ISAT</td>\n",
       "      <td>death                                         ...</td>\n",
       "      <td>isat</td>\n",
       "      <td>Hines                                         ...</td>\n",
       "    </tr>\n",
       "    <tr>\n",
       "      <th>6</th>\n",
       "      <td>Hines                                         ...</td>\n",
       "      <td>death                                         ...</td>\n",
       "      <td>ISAT</td>\n",
       "      <td>IA 5                                          ...</td>\n",
       "      <td>ISAT 500</td>\n",
       "      <td>Hines                                         ...</td>\n",
       "    </tr>\n",
       "  </tbody>\n",
       "</table>\n",
       "</div>"
      ],
      "text/plain": [
       "                                               email  \\\n",
       "0  weixx@jmu.edu                                 ...   \n",
       "1  thoma7lm@jmu.edu                              ...   \n",
       "2  hendrinx@jmu.edu                              ...   \n",
       "3  kolvoora@jmu.edu                              ...   \n",
       "4  dum                                           ...   \n",
       "5  Hines                                         ...   \n",
       "6  Hines                                         ...   \n",
       "\n",
       "                                               tname                office  \\\n",
       "0  xeubin wei                                    ...  hhs112                 \n",
       "1  linda thomas                                  ...  ISAT 312               \n",
       "2  noel hendrickson                              ...  ISAT 317               \n",
       "3  bob kolvoord                                  ...  ISAT 370               \n",
       "4  dum                                           ...  dum                    \n",
       "5  death                                         ...  ISAT                   \n",
       "6  death                                         ...  ISAT                   \n",
       "\n",
       "                                                name                  room  \\\n",
       "0  IA 1                                          ...  ISAT 100               \n",
       "1  IA 2                                          ...  ISAT 200               \n",
       "2  IA 3                                          ...  ISAT 300               \n",
       "3  IA 4                                          ...  ISAT 400               \n",
       "4  dum                                           ...  dum                    \n",
       "5  death                                         ...  isat                   \n",
       "6  IA 5                                          ...  ISAT 500               \n",
       "\n",
       "                                              temail  \n",
       "0  weixx@jmu.edu                                 ...  \n",
       "1  thoma7lm@jmu.edu                              ...  \n",
       "2  hendrinx@jmu.edu                              ...  \n",
       "3  kolvoora@jmu.edu                              ...  \n",
       "4  dum                                           ...  \n",
       "5  Hines                                         ...  \n",
       "6  Hines                                         ...  "
      ]
     },
     "execution_count": 41,
     "metadata": {},
     "output_type": "execute_result"
    }
   ],
   "source": [
    "df = pandas.read_sql_query(sql_statement,conn)\n",
    "df[:]"
   ]
  },
  {
   "cell_type": "markdown",
   "metadata": {},
   "source": [
    "## Q4"
   ]
  },
  {
   "cell_type": "code",
   "execution_count": 46,
   "metadata": {},
   "outputs": [],
   "source": [
    "sql_statement = '''\n",
    "                select \n",
    "                tname, name\n",
    "                from course_gp3\n",
    "                inner join teacher_gp3\n",
    "                on course_gp3.temail = teacher_gp3.email; \n",
    "               \n",
    "                select\n",
    "                tname, count(tname)\n",
    "                from teacher_gp3\n",
    "                group by tname\n",
    "                order by count (tname) desc\n",
    "                limit 1\n",
    "                '''"
   ]
  },
  {
   "cell_type": "code",
   "execution_count": 47,
   "metadata": {},
   "outputs": [
    {
     "data": {
      "text/html": [
       "<div>\n",
       "<style scoped>\n",
       "    .dataframe tbody tr th:only-of-type {\n",
       "        vertical-align: middle;\n",
       "    }\n",
       "\n",
       "    .dataframe tbody tr th {\n",
       "        vertical-align: top;\n",
       "    }\n",
       "\n",
       "    .dataframe thead th {\n",
       "        text-align: right;\n",
       "    }\n",
       "</style>\n",
       "<table border=\"1\" class=\"dataframe\">\n",
       "  <thead>\n",
       "    <tr style=\"text-align: right;\">\n",
       "      <th></th>\n",
       "      <th>tname</th>\n",
       "      <th>count</th>\n",
       "    </tr>\n",
       "  </thead>\n",
       "  <tbody>\n",
       "    <tr>\n",
       "      <th>0</th>\n",
       "      <td>bob kolvoord                                  ...</td>\n",
       "      <td>1</td>\n",
       "    </tr>\n",
       "  </tbody>\n",
       "</table>\n",
       "</div>"
      ],
      "text/plain": [
       "                                               tname  count\n",
       "0  bob kolvoord                                  ...      1"
      ]
     },
     "execution_count": 47,
     "metadata": {},
     "output_type": "execute_result"
    }
   ],
   "source": [
    "df = pandas.read_sql_query(sql_statement,conn)\n",
    "df[:]"
   ]
  },
  {
   "cell_type": "markdown",
   "metadata": {},
   "source": [
    "## Q5"
   ]
  },
  {
   "cell_type": "code",
   "execution_count": 60,
   "metadata": {},
   "outputs": [
    {
     "name": "stdout",
     "output_type": "stream",
     "text": [
      "\n",
      "                insert into teacher_gp3(email,tname,office)\n",
      "                values('new_email1','new_name1','new_office1')\n",
      "                \n"
     ]
    }
   ],
   "source": [
    "sql_insert_statement = '''\n",
    "                insert into teacher_gp3(email,tname,office)\n",
    "                values('{}','{}','{}')\n",
    "                '''.format('new_email1','new_name1','new_office1')\n",
    "print(sql_insert_statement)"
   ]
  },
  {
   "cell_type": "code",
   "execution_count": 61,
   "metadata": {},
   "outputs": [],
   "source": [
    "cur.execute(sql_insert_statement)"
   ]
  },
  {
   "cell_type": "code",
   "execution_count": 62,
   "metadata": {},
   "outputs": [],
   "source": [
    "conn.commit()"
   ]
  },
  {
   "cell_type": "code",
   "execution_count": 63,
   "metadata": {},
   "outputs": [
    {
     "data": {
      "text/html": [
       "<div>\n",
       "<style scoped>\n",
       "    .dataframe tbody tr th:only-of-type {\n",
       "        vertical-align: middle;\n",
       "    }\n",
       "\n",
       "    .dataframe tbody tr th {\n",
       "        vertical-align: top;\n",
       "    }\n",
       "\n",
       "    .dataframe thead th {\n",
       "        text-align: right;\n",
       "    }\n",
       "</style>\n",
       "<table border=\"1\" class=\"dataframe\">\n",
       "  <thead>\n",
       "    <tr style=\"text-align: right;\">\n",
       "      <th></th>\n",
       "      <th>email</th>\n",
       "      <th>tname</th>\n",
       "      <th>office</th>\n",
       "    </tr>\n",
       "  </thead>\n",
       "  <tbody>\n",
       "    <tr>\n",
       "      <th>0</th>\n",
       "      <td>dum                                           ...</td>\n",
       "      <td>dum                                           ...</td>\n",
       "      <td>dum</td>\n",
       "    </tr>\n",
       "    <tr>\n",
       "      <th>1</th>\n",
       "      <td>Hines                                         ...</td>\n",
       "      <td>death                                         ...</td>\n",
       "      <td>ISAT</td>\n",
       "    </tr>\n",
       "    <tr>\n",
       "      <th>2</th>\n",
       "      <td>new_email1                                    ...</td>\n",
       "      <td>new_name1                                     ...</td>\n",
       "      <td>new_office1</td>\n",
       "    </tr>\n",
       "    <tr>\n",
       "      <th>3</th>\n",
       "      <td>weixx@jmu.edu                                 ...</td>\n",
       "      <td>xeubin wei                                    ...</td>\n",
       "      <td>hhs112</td>\n",
       "    </tr>\n",
       "    <tr>\n",
       "      <th>4</th>\n",
       "      <td>thoma7lm@jmu.edu                              ...</td>\n",
       "      <td>linda thomas                                  ...</td>\n",
       "      <td>ISAT 312</td>\n",
       "    </tr>\n",
       "    <tr>\n",
       "      <th>5</th>\n",
       "      <td>hendrinx@jmu.edu                              ...</td>\n",
       "      <td>noel hendrickson                              ...</td>\n",
       "      <td>ISAT 317</td>\n",
       "    </tr>\n",
       "    <tr>\n",
       "      <th>6</th>\n",
       "      <td>kolvoora@jmu.edu                              ...</td>\n",
       "      <td>bob kolvoord                                  ...</td>\n",
       "      <td>ISAT 370</td>\n",
       "    </tr>\n",
       "  </tbody>\n",
       "</table>\n",
       "</div>"
      ],
      "text/plain": [
       "                                               email  \\\n",
       "0  dum                                           ...   \n",
       "1  Hines                                         ...   \n",
       "2  new_email1                                    ...   \n",
       "3  weixx@jmu.edu                                 ...   \n",
       "4  thoma7lm@jmu.edu                              ...   \n",
       "5  hendrinx@jmu.edu                              ...   \n",
       "6  kolvoora@jmu.edu                              ...   \n",
       "\n",
       "                                               tname                office  \n",
       "0  dum                                           ...  dum                   \n",
       "1  death                                         ...  ISAT                  \n",
       "2  new_name1                                     ...  new_office1           \n",
       "3  xeubin wei                                    ...  hhs112                \n",
       "4  linda thomas                                  ...  ISAT 312              \n",
       "5  noel hendrickson                              ...  ISAT 317              \n",
       "6  bob kolvoord                                  ...  ISAT 370              "
      ]
     },
     "execution_count": 63,
     "metadata": {},
     "output_type": "execute_result"
    }
   ],
   "source": [
    "df = pandas.read_sql_query(\"select * from teacher_gp3\", conn)\n",
    "df[:]"
   ]
  },
  {
   "cell_type": "markdown",
   "metadata": {},
   "source": [
    "## Q6"
   ]
  },
  {
   "cell_type": "code",
   "execution_count": 74,
   "metadata": {},
   "outputs": [],
   "source": [
    "sql_insert_statement = '''\n",
    "                update course_gp3 \n",
    "                set temail = 'new_email1'\n",
    "                where temail = 'thoma7lm@jmu.edu'\n",
    "                '''"
   ]
  },
  {
   "cell_type": "code",
   "execution_count": 75,
   "metadata": {},
   "outputs": [],
   "source": [
    "cur.execute(sql_insert_statement)"
   ]
  },
  {
   "cell_type": "code",
   "execution_count": 76,
   "metadata": {},
   "outputs": [],
   "source": [
    "conn.commit()"
   ]
  },
  {
   "cell_type": "code",
   "execution_count": 77,
   "metadata": {},
   "outputs": [
    {
     "data": {
      "text/html": [
       "<div>\n",
       "<style scoped>\n",
       "    .dataframe tbody tr th:only-of-type {\n",
       "        vertical-align: middle;\n",
       "    }\n",
       "\n",
       "    .dataframe tbody tr th {\n",
       "        vertical-align: top;\n",
       "    }\n",
       "\n",
       "    .dataframe thead th {\n",
       "        text-align: right;\n",
       "    }\n",
       "</style>\n",
       "<table border=\"1\" class=\"dataframe\">\n",
       "  <thead>\n",
       "    <tr style=\"text-align: right;\">\n",
       "      <th></th>\n",
       "      <th>name</th>\n",
       "      <th>room</th>\n",
       "      <th>temail</th>\n",
       "    </tr>\n",
       "  </thead>\n",
       "  <tbody>\n",
       "    <tr>\n",
       "      <th>0</th>\n",
       "      <td>IA 1                                          ...</td>\n",
       "      <td>ISAT 100</td>\n",
       "      <td>weixx@jmu.edu                                 ...</td>\n",
       "    </tr>\n",
       "    <tr>\n",
       "      <th>1</th>\n",
       "      <td>IA 3                                          ...</td>\n",
       "      <td>ISAT 300</td>\n",
       "      <td>hendrinx@jmu.edu                              ...</td>\n",
       "    </tr>\n",
       "    <tr>\n",
       "      <th>2</th>\n",
       "      <td>IA 4                                          ...</td>\n",
       "      <td>ISAT 400</td>\n",
       "      <td>kolvoora@jmu.edu                              ...</td>\n",
       "    </tr>\n",
       "    <tr>\n",
       "      <th>3</th>\n",
       "      <td>dum                                           ...</td>\n",
       "      <td>dum</td>\n",
       "      <td>dum                                           ...</td>\n",
       "    </tr>\n",
       "    <tr>\n",
       "      <th>4</th>\n",
       "      <td>death                                         ...</td>\n",
       "      <td>isat</td>\n",
       "      <td>Hines                                         ...</td>\n",
       "    </tr>\n",
       "    <tr>\n",
       "      <th>5</th>\n",
       "      <td>IA 5                                          ...</td>\n",
       "      <td>ISAT 500</td>\n",
       "      <td>Hines                                         ...</td>\n",
       "    </tr>\n",
       "    <tr>\n",
       "      <th>6</th>\n",
       "      <td>IA 2                                          ...</td>\n",
       "      <td>ISAT 200</td>\n",
       "      <td>new_email1                                    ...</td>\n",
       "    </tr>\n",
       "  </tbody>\n",
       "</table>\n",
       "</div>"
      ],
      "text/plain": [
       "                                                name                  room  \\\n",
       "0  IA 1                                          ...  ISAT 100               \n",
       "1  IA 3                                          ...  ISAT 300               \n",
       "2  IA 4                                          ...  ISAT 400               \n",
       "3  dum                                           ...  dum                    \n",
       "4  death                                         ...  isat                   \n",
       "5  IA 5                                          ...  ISAT 500               \n",
       "6  IA 2                                          ...  ISAT 200               \n",
       "\n",
       "                                              temail  \n",
       "0  weixx@jmu.edu                                 ...  \n",
       "1  hendrinx@jmu.edu                              ...  \n",
       "2  kolvoora@jmu.edu                              ...  \n",
       "3  dum                                           ...  \n",
       "4  Hines                                         ...  \n",
       "5  Hines                                         ...  \n",
       "6  new_email1                                    ...  "
      ]
     },
     "execution_count": 77,
     "metadata": {},
     "output_type": "execute_result"
    }
   ],
   "source": [
    "df = pandas.read_sql_query(\"select * from course_gp3\", conn)\n",
    "df[:]"
   ]
  },
  {
   "cell_type": "code",
   "execution_count": 81,
   "metadata": {},
   "outputs": [],
   "source": [
    "sql_insert_statement = '''\n",
    "                delete from teacher_gp3 \n",
    "                where email = 'thoma7lm@jmu.edu'\n",
    "                '''"
   ]
  },
  {
   "cell_type": "code",
   "execution_count": 82,
   "metadata": {},
   "outputs": [],
   "source": [
    "cur.execute(sql_insert_statement)"
   ]
  },
  {
   "cell_type": "code",
   "execution_count": 83,
   "metadata": {},
   "outputs": [],
   "source": [
    "conn.commit()"
   ]
  },
  {
   "cell_type": "code",
   "execution_count": 85,
   "metadata": {},
   "outputs": [
    {
     "data": {
      "text/html": [
       "<div>\n",
       "<style scoped>\n",
       "    .dataframe tbody tr th:only-of-type {\n",
       "        vertical-align: middle;\n",
       "    }\n",
       "\n",
       "    .dataframe tbody tr th {\n",
       "        vertical-align: top;\n",
       "    }\n",
       "\n",
       "    .dataframe thead th {\n",
       "        text-align: right;\n",
       "    }\n",
       "</style>\n",
       "<table border=\"1\" class=\"dataframe\">\n",
       "  <thead>\n",
       "    <tr style=\"text-align: right;\">\n",
       "      <th></th>\n",
       "      <th>email</th>\n",
       "      <th>tname</th>\n",
       "      <th>office</th>\n",
       "    </tr>\n",
       "  </thead>\n",
       "  <tbody>\n",
       "    <tr>\n",
       "      <th>0</th>\n",
       "      <td>dum                                           ...</td>\n",
       "      <td>dum                                           ...</td>\n",
       "      <td>dum</td>\n",
       "    </tr>\n",
       "    <tr>\n",
       "      <th>1</th>\n",
       "      <td>Hines                                         ...</td>\n",
       "      <td>death                                         ...</td>\n",
       "      <td>ISAT</td>\n",
       "    </tr>\n",
       "    <tr>\n",
       "      <th>2</th>\n",
       "      <td>new_email1                                    ...</td>\n",
       "      <td>new_name1                                     ...</td>\n",
       "      <td>new_office1</td>\n",
       "    </tr>\n",
       "    <tr>\n",
       "      <th>3</th>\n",
       "      <td>weixx@jmu.edu                                 ...</td>\n",
       "      <td>xeubin wei                                    ...</td>\n",
       "      <td>hhs112</td>\n",
       "    </tr>\n",
       "    <tr>\n",
       "      <th>4</th>\n",
       "      <td>hendrinx@jmu.edu                              ...</td>\n",
       "      <td>noel hendrickson                              ...</td>\n",
       "      <td>ISAT 317</td>\n",
       "    </tr>\n",
       "    <tr>\n",
       "      <th>5</th>\n",
       "      <td>kolvoora@jmu.edu                              ...</td>\n",
       "      <td>bob kolvoord                                  ...</td>\n",
       "      <td>ISAT 370</td>\n",
       "    </tr>\n",
       "  </tbody>\n",
       "</table>\n",
       "</div>"
      ],
      "text/plain": [
       "                                               email  \\\n",
       "0  dum                                           ...   \n",
       "1  Hines                                         ...   \n",
       "2  new_email1                                    ...   \n",
       "3  weixx@jmu.edu                                 ...   \n",
       "4  hendrinx@jmu.edu                              ...   \n",
       "5  kolvoora@jmu.edu                              ...   \n",
       "\n",
       "                                               tname                office  \n",
       "0  dum                                           ...  dum                   \n",
       "1  death                                         ...  ISAT                  \n",
       "2  new_name1                                     ...  new_office1           \n",
       "3  xeubin wei                                    ...  hhs112                \n",
       "4  noel hendrickson                              ...  ISAT 317              \n",
       "5  bob kolvoord                                  ...  ISAT 370              "
      ]
     },
     "execution_count": 85,
     "metadata": {},
     "output_type": "execute_result"
    }
   ],
   "source": [
    "df = pandas.read_sql_query(\"select * from teacher_gp3\", conn)\n",
    "df[:]"
   ]
  },
  {
   "cell_type": "code",
   "execution_count": null,
   "metadata": {},
   "outputs": [],
   "source": []
  }
 ],
 "metadata": {
  "kernelspec": {
   "display_name": "Python 3",
   "language": "python",
   "name": "python3"
  },
  "language_info": {
   "codemirror_mode": {
    "name": "ipython",
    "version": 3
   },
   "file_extension": ".py",
   "mimetype": "text/x-python",
   "name": "python",
   "nbconvert_exporter": "python",
   "pygments_lexer": "ipython3",
   "version": "3.6.5"
  }
 },
 "nbformat": 4,
 "nbformat_minor": 2
}
