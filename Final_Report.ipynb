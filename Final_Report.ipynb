{
 "cells": [
  {
   "cell_type": "markdown",
   "metadata": {},
   "source": [
    "# Final 241 "
   ]
  },
  {
   "cell_type": "markdown",
   "metadata": {},
   "source": [
    "# Intro:\n",
    "In our project we will be collecting at least 20 job posts of Intelligence Analysis from the website Indeed.com and saving them as an excel file. This data will be backed up using python in our OneDrive folder. We will also be enhancing our final product with several visual representations of the data that we have collected. "
   ]
  },
  {
   "cell_type": "markdown",
   "metadata": {},
   "source": [
    "Data Used: <a href='IA_241_Final_Jobs.xlsx'>data</a>"
   ]
  },
  {
   "cell_type": "code",
   "execution_count": 2,
   "metadata": {},
   "outputs": [],
   "source": [
    "import xlrd\n",
    "from collections import Counter        "
   ]
  },
  {
   "cell_type": "code",
   "execution_count": 55,
   "metadata": {},
   "outputs": [
    {
     "data": {
      "text/html": [
       "<div>\n",
       "<style scoped>\n",
       "    .dataframe tbody tr th:only-of-type {\n",
       "        vertical-align: middle;\n",
       "    }\n",
       "\n",
       "    .dataframe tbody tr th {\n",
       "        vertical-align: top;\n",
       "    }\n",
       "\n",
       "    .dataframe thead th {\n",
       "        text-align: right;\n",
       "    }\n",
       "</style>\n",
       "<table border=\"1\" class=\"dataframe\">\n",
       "  <thead>\n",
       "    <tr style=\"text-align: right;\">\n",
       "      <th></th>\n",
       "      <th>job title</th>\n",
       "      <th>company name</th>\n",
       "      <th>posted date</th>\n",
       "      <th>job location</th>\n",
       "      <th>minimal salary</th>\n",
       "      <th>job duties</th>\n",
       "      <th>required skills</th>\n",
       "      <th>minimal experience</th>\n",
       "      <th>minimal education</th>\n",
       "      <th>job url</th>\n",
       "    </tr>\n",
       "  </thead>\n",
       "  <tbody>\n",
       "    <tr>\n",
       "      <th>0</th>\n",
       "      <td>intelligence analyst intern</td>\n",
       "      <td>central intelligence agency</td>\n",
       "      <td>2018-12-12</td>\n",
       "      <td>Washington D.C.</td>\n",
       "      <td>53000</td>\n",
       "      <td>studying and evaluating information from all a...</td>\n",
       "      <td>enrolled in a graduate program and a minimum G...</td>\n",
       "      <td>2</td>\n",
       "      <td>college degree</td>\n",
       "      <td>https://www.indeed.com/jobs?q=intelligence%20a...</td>\n",
       "    </tr>\n",
       "    <tr>\n",
       "      <th>1</th>\n",
       "      <td>Business Intelligence Analyst</td>\n",
       "      <td>Exeter Finance LLC</td>\n",
       "      <td>2019-01-03</td>\n",
       "      <td>Ohio</td>\n",
       "      <td>85000</td>\n",
       "      <td>Assists in the development, modification and m...</td>\n",
       "      <td>business intelligence experience</td>\n",
       "      <td>4</td>\n",
       "      <td>college degree</td>\n",
       "      <td>https://www.indeed.com/jobs?q=intelligence%20a...</td>\n",
       "    </tr>\n",
       "    <tr>\n",
       "      <th>2</th>\n",
       "      <td>intelligence analyst</td>\n",
       "      <td>NC4’s International Monitoring Centers</td>\n",
       "      <td>2019-02-01</td>\n",
       "      <td>Virginia</td>\n",
       "      <td>60000</td>\n",
       "      <td>Monitor open source domestic/global real-time ...</td>\n",
       "      <td>Strong PC and internet research skills</td>\n",
       "      <td>4</td>\n",
       "      <td>bachlors degree or high school diploma</td>\n",
       "      <td>https://www.indeed.com/jobs?q=intelligence%20a...</td>\n",
       "    </tr>\n",
       "    <tr>\n",
       "      <th>3</th>\n",
       "      <td>intelligence analyst</td>\n",
       "      <td>insight global</td>\n",
       "      <td>2019-02-01</td>\n",
       "      <td>Virginia</td>\n",
       "      <td>62000</td>\n",
       "      <td>coordinating and participating in the tracking...</td>\n",
       "      <td>experience in the intelligence feild for atlea...</td>\n",
       "      <td>3</td>\n",
       "      <td>high school diploma</td>\n",
       "      <td>https://www.indeed.com/jobs?q=intelligence%20a...</td>\n",
       "    </tr>\n",
       "    <tr>\n",
       "      <th>4</th>\n",
       "      <td>CI all source analyst</td>\n",
       "      <td>perspecta</td>\n",
       "      <td>2019-02-01</td>\n",
       "      <td>Virginia</td>\n",
       "      <td>70000</td>\n",
       "      <td>Principal analyst provides analysis of all-sou...</td>\n",
       "      <td>Experience with intelligence analysis, includi...</td>\n",
       "      <td>2</td>\n",
       "      <td>bachlors degree</td>\n",
       "      <td>https://www.indeed.com/jobs?q=intelligence%20a...</td>\n",
       "    </tr>\n",
       "    <tr>\n",
       "      <th>5</th>\n",
       "      <td>FOIA Analyst</td>\n",
       "      <td>kenney business solutions</td>\n",
       "      <td>2019-02-01</td>\n",
       "      <td>Virginia</td>\n",
       "      <td>65000</td>\n",
       "      <td>Coordinate with OSD/JS and DoD components for ...</td>\n",
       "      <td>Active DoD Secret clearance or Interim Top Sec...</td>\n",
       "      <td>4</td>\n",
       "      <td>bachlors degree</td>\n",
       "      <td>https://www.indeed.com/jobs?q=intelligence%20a...</td>\n",
       "    </tr>\n",
       "    <tr>\n",
       "      <th>6</th>\n",
       "      <td>leadership analyst</td>\n",
       "      <td>central intelligence agency</td>\n",
       "      <td>2019-02-01</td>\n",
       "      <td>Washington D.C.</td>\n",
       "      <td>54308</td>\n",
       "      <td>support policymakers by producing and deliveri...</td>\n",
       "      <td>Coursework or demonstrated interest in leaders...</td>\n",
       "      <td>5</td>\n",
       "      <td>bachlors degree</td>\n",
       "      <td>https://www.indeed.com/jobs?q=intelligence%20a...</td>\n",
       "    </tr>\n",
       "    <tr>\n",
       "      <th>7</th>\n",
       "      <td>operations research analyst</td>\n",
       "      <td>national security agency</td>\n",
       "      <td>2019-03-15</td>\n",
       "      <td>Maryland</td>\n",
       "      <td>70519</td>\n",
       "      <td>leverages financial analytic tools to facilita...</td>\n",
       "      <td>strong written and communication skills</td>\n",
       "      <td>3</td>\n",
       "      <td>bachlors degree</td>\n",
       "      <td>https://www.indeed.com/jobs?q=intelligence%20a...</td>\n",
       "    </tr>\n",
       "    <tr>\n",
       "      <th>8</th>\n",
       "      <td>intelligence analyst</td>\n",
       "      <td>BAE systems</td>\n",
       "      <td>2019-03-24</td>\n",
       "      <td>Virginia</td>\n",
       "      <td>60000</td>\n",
       "      <td>Input data accurately, timely exploit FMV coll...</td>\n",
       "      <td>Understanding the basic intelligence cycle/pro...</td>\n",
       "      <td>3</td>\n",
       "      <td>bachlors degree</td>\n",
       "      <td>https://www.indeed.com/jobs?q=intelligence%20a...</td>\n",
       "    </tr>\n",
       "    <tr>\n",
       "      <th>9</th>\n",
       "      <td>intelligence analyst watch team member</td>\n",
       "      <td>dynamic planning &amp; response</td>\n",
       "      <td>2019-03-25</td>\n",
       "      <td>Virginia</td>\n",
       "      <td>76000</td>\n",
       "      <td>research, analyze, compose, edit and review NI...</td>\n",
       "      <td>Ability to plan and organize tasks independently</td>\n",
       "      <td>2</td>\n",
       "      <td>bachlors degree</td>\n",
       "      <td>https://www.indeed.com/jobs?q=intelligence%20a...</td>\n",
       "    </tr>\n",
       "  </tbody>\n",
       "</table>\n",
       "</div>"
      ],
      "text/plain": [
       "                                job title  \\\n",
       "0             intelligence analyst intern   \n",
       "1           Business Intelligence Analyst   \n",
       "2                    intelligence analyst   \n",
       "3                    intelligence analyst   \n",
       "4                   CI all source analyst   \n",
       "5                            FOIA Analyst   \n",
       "6                      leadership analyst   \n",
       "7             operations research analyst   \n",
       "8                    intelligence analyst   \n",
       "9  intelligence analyst watch team member   \n",
       "\n",
       "                             company name posted date     job location  \\\n",
       "0             central intelligence agency  2018-12-12  Washington D.C.   \n",
       "1                      Exeter Finance LLC  2019-01-03             Ohio   \n",
       "2  NC4’s International Monitoring Centers  2019-02-01         Virginia   \n",
       "3                         insight global   2019-02-01         Virginia   \n",
       "4                               perspecta  2019-02-01         Virginia   \n",
       "5              kenney business solutions   2019-02-01         Virginia   \n",
       "6             central intelligence agency  2019-02-01  Washington D.C.   \n",
       "7                national security agency  2019-03-15         Maryland   \n",
       "8                            BAE systems   2019-03-24         Virginia   \n",
       "9            dynamic planning & response   2019-03-25         Virginia   \n",
       "\n",
       "   minimal salary                                         job duties  \\\n",
       "0           53000  studying and evaluating information from all a...   \n",
       "1           85000  Assists in the development, modification and m...   \n",
       "2           60000  Monitor open source domestic/global real-time ...   \n",
       "3           62000  coordinating and participating in the tracking...   \n",
       "4           70000  Principal analyst provides analysis of all-sou...   \n",
       "5           65000  Coordinate with OSD/JS and DoD components for ...   \n",
       "6           54308  support policymakers by producing and deliveri...   \n",
       "7           70519  leverages financial analytic tools to facilita...   \n",
       "8           60000  Input data accurately, timely exploit FMV coll...   \n",
       "9           76000  research, analyze, compose, edit and review NI...   \n",
       "\n",
       "                                     required skills  minimal experience  \\\n",
       "0  enrolled in a graduate program and a minimum G...                   2   \n",
       "1                  business intelligence experience                    4   \n",
       "2             Strong PC and internet research skills                   4   \n",
       "3  experience in the intelligence feild for atlea...                   3   \n",
       "4  Experience with intelligence analysis, includi...                   2   \n",
       "5  Active DoD Secret clearance or Interim Top Sec...                   4   \n",
       "6  Coursework or demonstrated interest in leaders...                   5   \n",
       "7            strong written and communication skills                   3   \n",
       "8  Understanding the basic intelligence cycle/pro...                   3   \n",
       "9   Ability to plan and organize tasks independently                   2   \n",
       "\n",
       "                        minimal education   \\\n",
       "0                           college degree   \n",
       "1                           college degree   \n",
       "2   bachlors degree or high school diploma   \n",
       "3                      high school diploma   \n",
       "4                          bachlors degree   \n",
       "5                          bachlors degree   \n",
       "6                          bachlors degree   \n",
       "7                          bachlors degree   \n",
       "8                          bachlors degree   \n",
       "9                          bachlors degree   \n",
       "\n",
       "                                             job url  \n",
       "0  https://www.indeed.com/jobs?q=intelligence%20a...  \n",
       "1  https://www.indeed.com/jobs?q=intelligence%20a...  \n",
       "2  https://www.indeed.com/jobs?q=intelligence%20a...  \n",
       "3  https://www.indeed.com/jobs?q=intelligence%20a...  \n",
       "4  https://www.indeed.com/jobs?q=intelligence%20a...  \n",
       "5  https://www.indeed.com/jobs?q=intelligence%20a...  \n",
       "6  https://www.indeed.com/jobs?q=intelligence%20a...  \n",
       "7  https://www.indeed.com/jobs?q=intelligence%20a...  \n",
       "8  https://www.indeed.com/jobs?q=intelligence%20a...  \n",
       "9  https://www.indeed.com/jobs?q=intelligence%20a...  "
      ]
     },
     "execution_count": 55,
     "metadata": {},
     "output_type": "execute_result"
    }
   ],
   "source": [
    "import pandas\n",
    "df = pandas.read_excel('IA_241_Final_Jobs.xlsx')\n",
    "df[:10]"
   ]
  },
  {
   "cell_type": "markdown",
   "metadata": {},
   "source": [
    "# What are the common job titles? "
   ]
  },
  {
   "cell_type": "code",
   "execution_count": 15,
   "metadata": {},
   "outputs": [
    {
     "name": "stdout",
     "output_type": "stream",
     "text": [
      "intelligence analyst intern central intelligence agency 43446.0 Washington D.C. 53000.0 studying and evaluating information from all available sources—classified and unclassified—and then analyzing it to provide timely and objective assessments to customers such as the President, National Security Council, and other US policymakers. enrolled in a graduate program and a minimum GPA of 3.0 2.0 college degree\n",
      "Business Intelligence Analyst Exeter Finance LLC 43468.0 Ohio 85000.0 Assists in the development, modification and maintenance of analysis related to loan origination, performance and forecasting. business intelligence experience  4.0 college degree\n",
      "intelligence analyst NC4’s International Monitoring Centers 43497.0 Virginia 60000.0 Monitor open source domestic/global real-time all-hazard incidents; analyze potential threats and risks and disseminate error free reports to customers Strong PC and internet research skills 4.0  bachlors degree or high school diploma\n",
      "intelligence analyst insight global  43497.0 Virginia 62000.0 coordinating and participating in the tracking and/or execution of strategic and/or tactical intelligence operations. experience in the intelligence feild for atleast 1 year 3.0 high school diploma\n",
      "CI all source analyst perspecta 43497.0 Virginia 70000.0 Principal analyst provides analysis of all-source data in a multi-intelligence area to produce executive-level defense reports relevant on a national or global level. Serve as subject matter expert in the counterintelligence (CI) and intelligence analysis field supporting a DoD customer. Experience with intelligence analysis, including counterintelligence, counterterrorism, all-source, and law enforcement missions Experience with offensive CI operations or CI investigations 2.0 bachlors degree\n",
      "FOIA Analyst kenney business solutions  43497.0 Virginia 65000.0 Coordinate with OSD/JS and DoD components for review of responsive records and delivery of cases to and from component offices Active DoD Secret clearance or Interim Top Secret clearance required to begin work 4.0 bachlors degree\n",
      "leadership analyst central intelligence agency 43497.0 Washington D.C. 54308.0 support policymakers by producing and delivering written and oral assessments of foreign leaders and key decision-makers. Coursework or demonstrated interest in leadership studies, small-group behavior, or decision-making 5.0 bachlors degree\n",
      "operations research analyst national security agency 43539.0 Maryland 70519.0 leverages financial analytic tools to facilitate data collection management, data analysis, advanced analytic studies tool development, metrics, and forecasting strong written and communication skills 3.0 bachlors degree\n",
      "intelligence analyst BAE systems  43548.0 Virginia 60000.0 Input data accurately, timely exploit FMV collected by sensors on ISR platforms, apply HUMINT and SIGINT information to FMV imagery analysis, and use an electronic light table to exploit NTM imagery in softcopy. Understanding the basic intelligence cycle/process 3.0 bachlors degree\n",
      "intelligence analyst watch team member dynamic planning & response  43549.0 Virginia 76000.0 research, analyze, compose, edit and review NICC products; and perform initial analysis of information on questions, issues, or events involving the nation's Critical Infrastructure. Ability to plan and organize tasks independently 2.0 bachlors degree\n",
      "cyber operations exploition manager national security agency 43550.0 Maryland 70519.0 collects, processes and disseminates intelligence information derived from foreign signals for intelligence and counterintelligence purposes. -Leveraging data to drive knowledge -Performing process improvement assessments -Prioritizing mission needs of the organization and operations 3.0 bachlors degree\n",
      "cyber intelligence analyst peraton 43551.0 Virginia 95000.0 Conducts research and evaluates technical and all-source intelligence with specific emphasis on network operations and cyber warfare tactics, techniques, and procedures focused on the threat to networked weapons platforms and US and DoD information networks. You have an active TS/SCI clearance and are able to maintain this clearance and you must have a bachlors degree  4.0 bachlors degree\n",
      "SIGINT analyst BAE systems  43559.0 Virginia 135000.0 Provides analysis and research for industry, infrastructure, technology, country, geographic area, biographic and targeted vulnerability. Training in SIGINT analysis with a minimum of 4 years 4.0 high school diploma\n",
      "intelligence analyst TechGuard  43564.0 Maryland 70000.0 Provide all-source intelligence production and analysis in support of offensive and defensive operations across the full spectrum of cyberspace services. 10 years of military intelligence analysis experience. 3.0 high school diploma\n",
      "all source intelligence analyst booz allen hamilton 43566.0 Washington D.C. 70000.0 xplore new data sources, create effective queries, and combine information from disparate sources to help your client understand their mission environment. You’ll validate information and apply client tradecraft, as you build assessments for senior policy makers experience with conducting research 3.0 bachlors degree\n",
      "threat intelligence analyst hilton corporate 43566.0 Virginia 76000.0 preparing for, responding to, and remediating information security incidents to ensure anomalous and unauthorized activity is addressed with expediency to protect the Company's information assets and reduce interruptions to business processes as well as conducting investigations into cyber related activities on networks, computers, and servers. problem solver 4.0 bachlors degree\n",
      "humint analyst SOSI 43567.0 Belgium 85500.0 Analyzes CI/HUMINT data pertinent to counter-terrorism, subversion, sabotage, espionage, paramilitary /insurgency, organized crime and threats to force protection and personnel and physical infrastructure security Current DOD Top Secret with SCI Access (TS/SCI) 6.0 bachlors degree\n",
      "associate data analyst guidehouse 43570.0 Washington D.C. 60000.0 helps clients define their information strategy, architecture and governance, get the most value from business intelligence and analytics, and implement enterprise content and data management solutions to enable business insights, reduce cost and complexity, increase trust and integrity, and improve operational effectiveness Statistics, Mathematics, Operations Research, Computer Science, Information Systems, Engineering, Economics, or similar quantitative discipline. 4.0 bachlors degree\n",
      "intelligence analyst GDIT 43570.0 Washington D.C. 70000.0 Perform collection, control and dissemination of intelligence/counterintelligence information. 3 years of ecperience in the intelligence feild 4.0 bachlors degree\n",
      "intelligence analyst advanced decision vectors LLC 43571.0 Washington D.C. 70000.0 Identify, quantify, analyze, and map data issues involving Office of Security (OSY) investigative activities, including performing vetting and validation of data as necessary. top secret clearence  8.0 bachlors degree\n",
      "counterintelligence analyst BMW 43571.0 Washington D.C. 70000.0 Assess the foreign intelligence, international terrorist, and technological collection threats directed against DOE personnel, resources, S&T, facilities and programs foreign language proficiency  3.0 bachlors degree\n"
     ]
    }
   ],
   "source": [
    "book = xlrd.open_workbook('IA_241_Final_Jobs.xlsx')\n",
    "sheet = book.sheet_by_name('Sheet1')\n",
    "job_title_list = []\n",
    "company_name_list = []\n",
    "posted_date_list = []\n",
    "job_location_list = []\n",
    "minimal_salary_list = []\n",
    "job_duties_list = []\n",
    "required_skills_list = []\n",
    "minimal_experience_list = []\n",
    "minimal_education_list = []\n",
    "\n",
    "for i in range(sheet.nrows):\n",
    "    job_title,company_name,posted_date,job_location,minimal_salary,job_duties,required_skills,minimal_experience,minimal_education,url = sheet.row_values(i)\n",
    "    if i !=0:\n",
    "        print(job_title,company_name,posted_date,job_location,minimal_salary,job_duties,required_skills,minimal_experience,minimal_education)\n",
    "        job_title_list.append(job_title)\n",
    "        company_name_list.append(company_name) \n",
    "        posted_date_list.append(posted_date)\n",
    "        job_location_list.append(job_location)\n",
    "        minimal_salary_list.append(minimal_salary) \n",
    "        job_duties_list.append(job_duties)\n",
    "        required_skills_list.append(required_skills)\n",
    "        minimal_experience_list.append(minimal_experience)\n",
    "        minimal_education_list.append(minimal_education)\n",
    "    row = sheet.row_values(i)"
   ]
  },
  {
   "cell_type": "code",
   "execution_count": 16,
   "metadata": {},
   "outputs": [
    {
     "name": "stdout",
     "output_type": "stream",
     "text": [
      "intelligence analyst 6\n",
      "intelligence analyst intern 1\n",
      "Business Intelligence Analyst 1\n",
      "CI all source analyst 1\n",
      "FOIA Analyst 1\n",
      "leadership analyst 1\n",
      "operations research analyst 1\n",
      "intelligence analyst watch team member 1\n",
      "cyber operations exploition manager 1\n",
      "cyber intelligence analyst 1\n"
     ]
    }
   ],
   "source": [
    "count_result = Counter(job_title_list)\n",
    "count_list = []\n",
    "title_list = []\n",
    "for title,count in count_result.most_common(10):\n",
    "    print(title,count)\n",
    "    count_list.append(count)\n",
    "    title_list.append(title)"
   ]
  },
  {
   "cell_type": "code",
   "execution_count": 17,
   "metadata": {},
   "outputs": [
    {
     "name": "stdout",
     "output_type": "stream",
     "text": [
      "dict_keys(['intelligence analyst intern', 'Business Intelligence Analyst', 'intelligence analyst', 'CI all source analyst', 'FOIA Analyst', 'leadership analyst', 'operations research analyst', 'intelligence analyst watch team member', 'cyber operations exploition manager', 'cyber intelligence analyst', 'SIGINT analyst', 'all source intelligence analyst', 'threat intelligence analyst', 'humint analyst', 'associate data analyst', 'counterintelligence analyst'])\n",
      "dict_values([1, 1, 6, 1, 1, 1, 1, 1, 1, 1, 1, 1, 1, 1, 1, 1])\n"
     ]
    },
    {
     "data": {
      "image/png": "[encoded data removed]",
      "text/plain": [
       "<Figure size 432x288 with 1 Axes>"
      ]
     },
     "metadata": {},
     "output_type": "display_data"
    }
   ],
   "source": [
    "%matplotlib inline\n",
    "import matplotlib.pyplot as plt  \n",
    "from collections import Counter\n",
    "\n",
    "result= Counter(job_title_list)\n",
    "\n",
    "print(result.keys())\n",
    "print(result.values())\n",
    "\n",
    "\n",
    "plt.pie(result.values(), labels=result.keys())\n",
    "plt.show()"
   ]
  },
  {
   "cell_type": "markdown",
   "metadata": {},
   "source": [
    "The most common job title is intelligence analyst. We came to this result by creating a list of each column of the excel file. From this, we added the information from the excel file into the corresponding list. After that we used the counter function and for loop to call and then print the most common job titles. Finally we used a pie chart to visualize this result."
   ]
  },
  {
   "cell_type": "markdown",
   "metadata": {},
   "source": [
    "# Which company posted the most number of jobs?"
   ]
  },
  {
   "cell_type": "code",
   "execution_count": 18,
   "metadata": {},
   "outputs": [
    {
     "name": "stdout",
     "output_type": "stream",
     "text": [
      "central intelligence agency 2\n",
      "national security agency 2\n",
      "BAE systems  2\n",
      "Exeter Finance LLC 1\n",
      "NC4’s International Monitoring Centers 1\n",
      "insight global  1\n",
      "perspecta 1\n",
      "kenney business solutions  1\n",
      "dynamic planning & response  1\n",
      "peraton 1\n",
      "TechGuard  1\n",
      "booz allen hamilton 1\n",
      "hilton corporate 1\n",
      "SOSI 1\n",
      "guidehouse 1\n",
      "GDIT 1\n",
      "advanced decision vectors LLC 1\n",
      "BMW 1\n"
     ]
    }
   ],
   "source": [
    "count_result = Counter(company_name_list)\n",
    "count_list1 = []\n",
    "title_list1 = []\n",
    "for title,count in count_result.most_common(21):\n",
    "    print(title,count)\n",
    "    count_list.append(count)\n",
    "    title_list.append(title)"
   ]
  },
  {
   "cell_type": "code",
   "execution_count": 19,
   "metadata": {},
   "outputs": [
    {
     "name": "stdout",
     "output_type": "stream",
     "text": [
      "dict_keys(['central intelligence agency', 'Exeter Finance LLC', 'NC4’s International Monitoring Centers', 'insight global ', 'perspecta', 'kenney business solutions ', 'national security agency', 'BAE systems ', 'dynamic planning & response ', 'peraton', 'TechGuard ', 'booz allen hamilton', 'hilton corporate', 'SOSI', 'guidehouse', 'GDIT', 'advanced decision vectors LLC', 'BMW'])\n",
      "dict_values([2, 1, 1, 1, 1, 1, 2, 2, 1, 1, 1, 1, 1, 1, 1, 1, 1, 1])\n"
     ]
    },
    {
     "data": {
      "image/png": "[encoded data removed]",
      "text/plain": [
       "<Figure size 432x288 with 1 Axes>"
      ]
     },
     "metadata": {},
     "output_type": "display_data"
    }
   ],
   "source": [
    "result= Counter(company_name_list)\n",
    "print(result.keys())\n",
    "print(result.values())\n",
    "\n",
    "plt.pie(result.values(), labels=result.keys())\n",
    "plt.show()"
   ]
  },
  {
   "cell_type": "markdown",
   "metadata": {},
   "source": [
    "The companies that posted the most number of jobs was tied between the Central Intelligence Agency, BAE Systems, and the National Security Agency. We came to this result by using the counter function and for loop to find the how frequent the company posted. We used a pie chart to visualize these results."
   ]
  },
  {
   "cell_type": "markdown",
   "metadata": {},
   "source": [
    "# How the number of job posts vary by days?"
   ]
  },
  {
   "cell_type": "code",
   "execution_count": 56,
   "metadata": {
    "scrolled": true
   },
   "outputs": [
    {
     "data": {
      "text/plain": [
       "0    2018-12-12\n",
       "1    2019-01-03\n",
       "2    2019-02-01\n",
       "3    2019-02-01\n",
       "4    2019-02-01\n",
       "5    2019-02-01\n",
       "6    2019-02-01\n",
       "7    2019-03-15\n",
       "8    2019-03-24\n",
       "9    2019-03-25\n",
       "10   2019-03-26\n",
       "11   2019-03-27\n",
       "12   2019-04-04\n",
       "13   2019-04-09\n",
       "14   2019-04-11\n",
       "15   2019-04-11\n",
       "16   2019-04-12\n",
       "17   2019-04-15\n",
       "18   2019-04-15\n",
       "19   2019-04-16\n",
       "20   2019-04-16\n",
       "Name: posted date, dtype: datetime64[ns]"
      ]
     },
     "execution_count": 56,
     "metadata": {},
     "output_type": "execute_result"
    }
   ],
   "source": [
    "\n",
    "df [\"posted date\"]"
   ]
  },
  {
   "cell_type": "code",
   "execution_count": 21,
   "metadata": {},
   "outputs": [
    {
     "data": {
      "image/png": "[encoded data removed]",
      "text/plain": [
       "<Figure size 1440x216 with 1 Axes>"
      ]
     },
     "metadata": {},
     "output_type": "display_data"
    }
   ],
   "source": [
    "count_result = Counter(df [\"posted date\"])\n",
    "\n",
    "from matplotlib.pyplot import figure\n",
    "figure(figsize=(20,3))\n",
    "plt.plot(count_result.keys(),count_result.values())\n",
    "plt.show()"
   ]
  },
  {
   "cell_type": "markdown",
   "metadata": {},
   "source": [
    "February 1st had the highest amount of job posts with five. The second highest was February 15th with four. We used a line chart to show the trend of job posts varying by days.    \n",
    "        "
   ]
  },
  {
   "cell_type": "markdown",
   "metadata": {},
   "source": [
    "# Where are the locations of the jobs?"
   ]
  },
  {
   "cell_type": "code",
   "execution_count": 22,
   "metadata": {},
   "outputs": [
    {
     "name": "stdout",
     "output_type": "stream",
     "text": [
      "dict_keys(['Washington D.C.', 'Ohio', 'Virginia', 'Maryland', 'Belgium'])\n",
      "dict_values([7, 1, 9, 3, 1])\n"
     ]
    },
    {
     "data": {
      "image/png": "[encoded data removed]",
      "text/plain": [
       "<Figure size 432x288 with 1 Axes>"
      ]
     },
     "metadata": {},
     "output_type": "display_data"
    }
   ],
   "source": [
    "result= Counter(job_location_list)\n",
    "print(result.keys())\n",
    "print(result.values())\n",
    "\n",
    "plt.pie(result.values(), labels=result.keys())\n",
    "plt.show()"
   ]
  },
  {
   "cell_type": "markdown",
   "metadata": {},
   "source": [
    "The jobs are located in Virginia, Washington D.C., Virginia, Maryland, Belgium, and Ohio. We decide to use a pie chart in order to visualize the locations of each job."
   ]
  },
  {
   "cell_type": "markdown",
   "metadata": {},
   "source": [
    "# What is the average minimal salary?"
   ]
  },
  {
   "cell_type": "code",
   "execution_count": 23,
   "metadata": {},
   "outputs": [
    {
     "name": "stdout",
     "output_type": "stream",
     "text": [
      "mean salary is 72754.57142857143\n"
     ]
    }
   ],
   "source": [
    "import numpy as np \n",
    "\n",
    "print('mean salary is {}'.format(np.mean(minimal_salary_list)))"
   ]
  },
  {
   "cell_type": "markdown",
   "metadata": {},
   "source": [
    "The average minimal salary is $72,754.57 we came to this result by importing numpy as np and then we printed the result. We did not use a visualization to show this; we felt it was not needed.     \n"
   ]
  },
  {
   "cell_type": "markdown",
   "metadata": {},
   "source": [
    "# What is the average minimal years of experience?"
   ]
  },
  {
   "cell_type": "code",
   "execution_count": 24,
   "metadata": {},
   "outputs": [
    {
     "name": "stdout",
     "output_type": "stream",
     "text": [
      "mean experience is 3.7142857142857144\n"
     ]
    }
   ],
   "source": [
    "print('mean experience is {}'.format(np.mean(minimal_experience_list)))"
   ]
  },
  {
   "cell_type": "markdown",
   "metadata": {},
   "source": [
    "The average minimal years of experience is 3.71 years (3 years 259 days). We used the mean function to find the average years of experience. We did not use a visualization."
   ]
  },
  {
   "cell_type": "markdown",
   "metadata": {},
   "source": [
    "# How are the years of experience related to the salaries?"
   ]
  },
  {
   "cell_type": "code",
   "execution_count": 25,
   "metadata": {},
   "outputs": [
    {
     "name": "stdout",
     "output_type": "stream",
     "text": [
      "[[1.         0.14587024]\n",
      " [0.14587024 1.        ]]\n",
      "the cor experience and salary is [[1.         0.14587024]\n",
      " [0.14587024 1.        ]]\n"
     ]
    },
    {
     "data": {
      "image/png": "[encoded data removed]",
      "text/plain": [
       "<Figure size 432x288 with 1 Axes>"
      ]
     },
     "metadata": {},
     "output_type": "display_data"
    }
   ],
   "source": [
    "print(np.corrcoef(minimal_salary_list,minimal_experience_list))\n",
    "print('the cor experience and salary is {}'.format(np.corrcoef(minimal_salary_list,minimal_experience_list)))\n",
    "plt.scatter(minimal_salary_list,minimal_experience_list)\n",
    "plt.show()"
   ]
  },
  {
   "cell_type": "markdown",
   "metadata": {},
   "source": [
    "We used a scatter plot to show the relationship between the years of experience and salaries. We found that there is a low correlation between the two (0.1458).\n",
    "    \n"
   ]
  },
  {
   "cell_type": "markdown",
   "metadata": {},
   "source": [
    "# What are the common job duties?"
   ]
  },
  {
   "cell_type": "code",
   "execution_count": 29,
   "metadata": {
    "scrolled": true
   },
   "outputs": [
    {
     "name": "stdout",
     "output_type": "stream",
     "text": [
      "studying and evaluating information from all available sources—classified and unclassified—and then analyzing it to provide timely and objective assessments to customers such as the President, National Security Council, and other US policymakers.\n",
      "Assists in the development, modification and maintenance of analysis related to loan origination, performance and forecasting.\n",
      "Monitor open source domestic/global real-time all-hazard incidents; analyze potential threats and risks and disseminate error free reports to customers\n",
      "coordinating and participating in the tracking and/or execution of strategic and/or tactical intelligence operations.\n",
      "Principal analyst provides analysis of all-source data in a multi-intelligence area to produce executive-level defense reports relevant on a national or global level. Serve as subject matter expert in the counterintelligence (CI) and intelligence analysis field supporting a DoD customer.\n",
      "Coordinate with OSD/JS and DoD components for review of responsive records and delivery of cases to and from component offices\n",
      "support policymakers by producing and delivering written and oral assessments of foreign leaders and key decision-makers.\n",
      "leverages financial analytic tools to facilitate data collection management, data analysis, advanced analytic studies tool development, metrics, and forecasting\n",
      "Input data accurately, timely exploit FMV collected by sensors on ISR platforms, apply HUMINT and SIGINT information to FMV imagery analysis, and use an electronic light table to exploit NTM imagery in softcopy.\n",
      "research, analyze, compose, edit and review NICC products; and perform initial analysis of information on questions, issues, or events involving the nation's Critical Infrastructure.\n",
      "collects, processes and disseminates intelligence information derived from foreign signals for intelligence and counterintelligence purposes.\n",
      "Conducts research and evaluates technical and all-source intelligence with specific emphasis on network operations and cyber warfare tactics, techniques, and procedures focused on the threat to networked weapons platforms and US and DoD information networks.\n",
      "Provides analysis and research for industry, infrastructure, technology, country, geographic area, biographic and targeted vulnerability.\n",
      "Provide all-source intelligence production and analysis in support of offensive and defensive operations across the full spectrum of cyberspace services.\n",
      "xplore new data sources, create effective queries, and combine information from disparate sources to help your client understand their mission environment. You’ll validate information and apply client tradecraft, as you build assessments for senior policy makers\n",
      "preparing for, responding to, and remediating information security incidents to ensure anomalous and unauthorized activity is addressed with expediency to protect the Company's information assets and reduce interruptions to business processes as well as conducting investigations into cyber related activities on networks, computers, and servers.\n",
      "Analyzes CI/HUMINT data pertinent to counter-terrorism, subversion, sabotage, espionage, paramilitary /insurgency, organized crime and threats to force protection and personnel and physical infrastructure security\n",
      "helps clients define their information strategy, architecture and governance, get the most value from business intelligence and analytics, and implement enterprise content and data management solutions to enable business insights, reduce cost and complexity, increase trust and integrity, and improve operational effectiveness\n",
      "Perform collection, control and dissemination of intelligence/counterintelligence information.\n",
      "Identify, quantify, analyze, and map data issues involving Office of Security (OSY) investigative activities, including performing vetting and validation of data as necessary.\n",
      "Assess the foreign intelligence, international terrorist, and technological collection threats directed against DOE personnel, resources, S&T, facilities and programs\n",
      "Assess the foreign intelligence, international terrorist, and technological collection threats directed against DOE personnel, resources, S&T, facilities and programsIdentify, quantify, analyze, and map data issues involving Office of Security (OSY) investigative activities, including performing vetting and validation of data as necessary.Perform collection, control and dissemination of intelligence/counterintelligence information.helps clients define their information strategy, architecture and governance, get the most value from business intelligence and analytics, and implement enterprise content and data management solutions to enable business insights, reduce cost and complexity, increase trust and integrity, and improve operational effectivenessAnalyzes CI/HUMINT data pertinent to counter-terrorism, subversion, sabotage, espionage, paramilitary /insurgency, organized crime and threats to force protection and personnel and physical infrastructure securitypreparing for, responding to, and remediating information security incidents to ensure anomalous and unauthorized activity is addressed with expediency to protect the Company's information assets and reduce interruptions to business processes as well as conducting investigations into cyber related activities on networks, computers, and servers.xplore new data sources, create effective queries, and combine information from disparate sources to help your client understand their mission environment. You’ll validate information and apply client tradecraft, as you build assessments for senior policy makersProvide all-source intelligence production and analysis in support of offensive and defensive operations across the full spectrum of cyberspace services.Provides analysis and research for industry, infrastructure, technology, country, geographic area, biographic and targeted vulnerability.Conducts research and evaluates technical and all-source intelligence with specific emphasis on network operations and cyber warfare tactics, techniques, and procedures focused on the threat to networked weapons platforms and US and DoD information networks.collects, processes and disseminates intelligence information derived from foreign signals for intelligence and counterintelligence purposes.research, analyze, compose, edit and review NICC products; and perform initial analysis of information on questions, issues, or events involving the nation's Critical Infrastructure.Input data accurately, timely exploit FMV collected by sensors on ISR platforms, apply HUMINT and SIGINT information to FMV imagery analysis, and use an electronic light table to exploit NTM imagery in softcopy.leverages financial analytic tools to facilitate data collection management, data analysis, advanced analytic studies tool development, metrics, and forecastingsupport policymakers by producing and delivering written and oral assessments of foreign leaders and key decision-makers.Coordinate with OSD/JS and DoD components for review of responsive records and delivery of cases to and from component officesPrincipal analyst provides analysis of all-source data in a multi-intelligence area to produce executive-level defense reports relevant on a national or global level. Serve as subject matter expert in the counterintelligence (CI) and intelligence analysis field supporting a DoD customer.coordinating and participating in the tracking and/or execution of strategic and/or tactical intelligence operations.Monitor open source domestic/global real-time all-hazard incidents; analyze potential threats and risks and disseminate error free reports to customersAssists in the development, modification and maintenance of analysis related to loan origination, performance and forecasting.studying and evaluating information from all available sources—classified and unclassified—and then analyzing it to provide timely and objective assessments to customers such as the President, National Security Council, and other US policymakers.\n"
     ]
    }
   ],
   "source": [
    "for duty in df['job duties']:\n",
    "    print (duty)"
   ]
  },
  {
   "cell_type": "code",
   "execution_count": 30,
   "metadata": {},
   "outputs": [
    {
     "name": "stdout",
     "output_type": "stream",
     "text": [
      "Assess the foreign intelligence, international terrorist, and technological collection threats directed against DOE personnel, resources, S&T, facilities and programsIdentify, quantify, analyze, and map data issues involving Office of Security (OSY) investigative activities, including performing vetting and validation of data as necessary.Perform collection, control and dissemination of intelligence/counterintelligence information.helps clients define their information strategy, architecture and governance, get the most value from business intelligence and analytics, and implement enterprise content and data management solutions to enable business insights, reduce cost and complexity, increase trust and integrity, and improve operational effectivenessAnalyzes CI/HUMINT data pertinent to counter-terrorism, subversion, sabotage, espionage, paramilitary /insurgency, organized crime and threats to force protection and personnel and physical infrastructure securitypreparing for, responding to, and remediating information security incidents to ensure anomalous and unauthorized activity is addressed with expediency to protect the Company's information assets and reduce interruptions to business processes as well as conducting investigations into cyber related activities on networks, computers, and servers.xplore new data sources, create effective queries, and combine information from disparate sources to help your client understand their mission environment. You’ll validate information and apply client tradecraft, as you build assessments for senior policy makersProvide all-source intelligence production and analysis in support of offensive and defensive operations across the full spectrum of cyberspace services.Provides analysis and research for industry, infrastructure, technology, country, geographic area, biographic and targeted vulnerability.Conducts research and evaluates technical and all-source intelligence with specific emphasis on network operations and cyber warfare tactics, techniques, and procedures focused on the threat to networked weapons platforms and US and DoD information networks.collects, processes and disseminates intelligence information derived from foreign signals for intelligence and counterintelligence purposes.research, analyze, compose, edit and review NICC products; and perform initial analysis of information on questions, issues, or events involving the nation's Critical Infrastructure.Input data accurately, timely exploit FMV collected by sensors on ISR platforms, apply HUMINT and SIGINT information to FMV imagery analysis, and use an electronic light table to exploit NTM imagery in softcopy.leverages financial analytic tools to facilitate data collection management, data analysis, advanced analytic studies tool development, metrics, and forecastingsupport policymakers by producing and delivering written and oral assessments of foreign leaders and key decision-makers.Coordinate with OSD/JS and DoD components for review of responsive records and delivery of cases to and from component officesPrincipal analyst provides analysis of all-source data in a multi-intelligence area to produce executive-level defense reports relevant on a national or global level. Serve as subject matter expert in the counterintelligence (CI) and intelligence analysis field supporting a DoD customer.coordinating and participating in the tracking and/or execution of strategic and/or tactical intelligence operations.Monitor open source domestic/global real-time all-hazard incidents; analyze potential threats and risks and disseminate error free reports to customersAssists in the development, modification and maintenance of analysis related to loan origination, performance and forecasting.studying and evaluating information from all available sources—classified and unclassified—and then analyzing it to provide timely and objective assessments to customers such as the President, National Security Council, and other US policymakers.\n"
     ]
    }
   ],
   "source": [
    "duties=''\n",
    "for duty in df['job duties']:\n",
    "    duties=duty + duties\n",
    "print (duties)"
   ]
  },
  {
   "cell_type": "code",
   "execution_count": 31,
   "metadata": {},
   "outputs": [],
   "source": [
    "import xlwt        \n",
    "\n",
    "from collections import Counter        \n",
    "\n",
    "from nltk.corpus import stopwords\n",
    "\n",
    "stop = set(stopwords.words('english'))\n",
    "\n",
    "  \n",
    "\n",
    "book = xlwt.Workbook() \n",
    "\n",
    "sheet_test = book.add_sheet('word_count')\n",
    "i = 0\n",
    "\n",
    "sheet_test.write(i,0,'word') \n",
    "\n",
    "sheet_test.write(i,1,'count') \n",
    "sheet_test.write(i,2,'ratio') \n",
    "    \n",
    "\n",
    "word_list=[i for i in duties.lower().split() if i not in stop]\n",
    "word_total=word_list.__len__()\n",
    "\n",
    "count_result= Counter (word_list)\n",
    "for result in count_result.most_common(20):\n",
    "    i = i+1 \n",
    "\n",
    "    sheet_test.write(i,0,result[0])\n",
    "\n",
    "    sheet_test.write(i,1,result[1])\n",
    "\n",
    "    sheet_test.write(i,2,(result[1]/word_total))\n",
    "\n",
    "\n",
    "book.save('duties.xls')"
   ]
  },
  {
   "cell_type": "markdown",
   "metadata": {},
   "source": [
    "<img src=\"duties.png\">"
   ]
  },
  {
   "cell_type": "markdown",
   "metadata": {},
   "source": [
    "We used a word cloud to display the most common job duties. In our code we used counter most common tool and this provided the most common words even if they were not job duties on their own. Most of the job duties in our posts were multiple words together, not individual words.\n",
    "    \n"
   ]
  },
  {
   "cell_type": "markdown",
   "metadata": {},
   "source": [
    "# What are the common skills? "
   ]
  },
  {
   "cell_type": "code",
   "execution_count": 42,
   "metadata": {},
   "outputs": [
    {
     "name": "stdout",
     "output_type": "stream",
     "text": [
      "enrolled in a graduate program and a minimum GPA of 3.0\n",
      "business intelligence experience \n",
      "Strong PC and internet research skills\n",
      "experience in the intelligence feild for atleast 1 year\n",
      "Experience with intelligence analysis, including counterintelligence, counterterrorism, all-source, and law enforcement missions Experience with offensive CI operations or CI investigations\n",
      "Active DoD Secret clearance or Interim Top Secret clearance required to begin work\n",
      "Coursework or demonstrated interest in leadership studies, small-group behavior, or decision-making\n",
      "strong written and communication skills\n",
      "Understanding the basic intelligence cycle/process\n",
      "Ability to plan and organize tasks independently\n",
      "-Leveraging data to drive knowledge -Performing process improvement assessments -Prioritizing mission needs of the organization and operations\n",
      "You have an active TS/SCI clearance and are able to maintain this clearance and you must have a bachlors degree \n",
      "Training in SIGINT analysis with a minimum of 4 years\n",
      "10 years of military intelligence analysis experience.\n",
      "experience with conducting research\n",
      "problem solver\n",
      "Current DOD Top Secret with SCI Access (TS/SCI)\n",
      "Statistics, Mathematics, Operations Research, Computer Science, Information Systems, Engineering, Economics, or similar quantitative discipline.\n",
      "3 years of ecperience in the intelligence feild\n",
      "top secret clearence \n",
      "foreign language proficiency \n"
     ]
    }
   ],
   "source": [
    "for skills in df['required skills']:\n",
    "    print (skills)"
   ]
  },
  {
   "cell_type": "code",
   "execution_count": 45,
   "metadata": {},
   "outputs": [
    {
     "name": "stdout",
     "output_type": "stream",
     "text": [
      "foreign language proficiency top secret clearence 3 years of ecperience in the intelligence feildStatistics, Mathematics, Operations Research, Computer Science, Information Systems, Engineering, Economics, or similar quantitative discipline.Current DOD Top Secret with SCI Access (TS/SCI)problem solverexperience with conducting research10 years of military intelligence analysis experience.Training in SIGINT analysis with a minimum of 4 yearsYou have an active TS/SCI clearance and are able to maintain this clearance and you must have a bachlors degree -Leveraging data to drive knowledge -Performing process improvement assessments -Prioritizing mission needs of the organization and operationsAbility to plan and organize tasks independentlyUnderstanding the basic intelligence cycle/processstrong written and communication skillsCoursework or demonstrated interest in leadership studies, small-group behavior, or decision-makingActive DoD Secret clearance or Interim Top Secret clearance required to begin workExperience with intelligence analysis, including counterintelligence, counterterrorism, all-source, and law enforcement missions Experience with offensive CI operations or CI investigationsexperience in the intelligence feild for atleast 1 yearStrong PC and internet research skillsbusiness intelligence experience enrolled in a graduate program and a minimum GPA of 3.0\n"
     ]
    }
   ],
   "source": [
    "skills =''\n",
    "for skill in df['required skills']:\n",
    "    skills = skill + skills\n",
    "print (skills)"
   ]
  },
  {
   "cell_type": "code",
   "execution_count": 46,
   "metadata": {},
   "outputs": [],
   "source": [
    "import xlwt        \n",
    "\n",
    "from collections import Counter        \n",
    "\n",
    "from nltk.corpus import stopwords\n",
    "\n",
    "stop = set(stopwords.words('english'))\n",
    "\n",
    "  \n",
    "\n",
    "book = xlwt.Workbook() \n",
    "\n",
    "sheet_test = book.add_sheet('word_count')\n",
    "i = 0\n",
    "\n",
    "sheet_test.write(i,0,'word') \n",
    "\n",
    "sheet_test.write(i,1,'count') \n",
    "sheet_test.write(i,2,'ratio') "
   ]
  },
  {
   "cell_type": "code",
   "execution_count": 47,
   "metadata": {},
   "outputs": [],
   "source": [
    "word_list=[i for i in skills.lower().split() if i not in stop]\n",
    "word_total=word_list.__len__()\n",
    "\n",
    "count_result= Counter (word_list)\n",
    "for result in count_result.most_common(20):\n",
    "    i = i+1 \n",
    "\n",
    "    sheet_test.write(i,0,result[0])\n",
    "\n",
    "    sheet_test.write(i,1,result[1])\n",
    "\n",
    "    sheet_test.write(i,2,(result[1]/word_total))\n",
    "\n",
    "\n",
    "book.save('skills_3.xls')"
   ]
  },
  {
   "cell_type": "markdown",
   "metadata": {},
   "source": [
    "<img src=\"skills.png\">"
   ]
  },
  {
   "cell_type": "markdown",
   "metadata": {},
   "source": [
    "We used a word cloud to display the most common skills. In our code we used counter most common tool and this provided the most common words even if they were not skills on their own. Most of the skills in our posts were multiple words together, not individual words.\n"
   ]
  },
  {
   "cell_type": "markdown",
   "metadata": {},
   "source": [
    "# Conclusion: "
   ]
  },
  {
   "cell_type": "markdown",
   "metadata": {},
   "source": [
    "This project challenged our python skills as well as enhancing upon the tasks that we have learned in this class. We practiced many different objectives that have been taught throughout this course. The final project provided us with the opportunity to individually demonstrate the surplus of skills that have been mastered within this semester.   "
   ]
  },
  {
   "cell_type": "code",
   "execution_count": null,
   "metadata": {},
   "outputs": [],
   "source": []
  }
 ],
 "metadata": {
  "kernelspec": {
   "display_name": "Python 3",
   "language": "python",
   "name": "python3"
  },
  "language_info": {
   "codemirror_mode": {
    "name": "ipython",
    "version": 3
   },
   "file_extension": ".py",
   "mimetype": "text/x-python",
   "name": "python",
   "nbconvert_exporter": "python",
   "pygments_lexer": "ipython3",
   "version": "3.6.5"
  }
 },
 "nbformat": 4,
 "nbformat_minor": 2
}
